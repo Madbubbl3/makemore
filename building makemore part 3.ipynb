{
 "cells": [
  {
   "attachments": {},
   "cell_type": "markdown",
   "metadata": {},
   "source": [
    "### Import the datasets"
   ]
  },
  {
   "cell_type": "code",
   "execution_count": 22,
   "metadata": {},
   "outputs": [
    {
     "data": {
      "text/plain": [
       "['emma', 'olivia', 'ava', 'isabella', 'sophia', 'charlotte', 'mia', 'amelia']"
      ]
     },
     "execution_count": 22,
     "metadata": {},
     "output_type": "execute_result"
    }
   ],
   "source": [
    "import torch\n",
    "import torch.nn.functional as F\n",
    "import matplotlib.pyplot as plt\n",
    "import random \n",
    "\n",
    "%matplotlib inline\n",
    "\n",
    "SEED = 2147483647\n",
    "\n",
    "# read all the names in a python list\n",
    "with open(file=\"datasets/names.txt\", mode=\"r\") as namesTxt: \n",
    "    # names = [line[:-1] for line in namesTxt.readlines()]\n",
    "    names = namesTxt.read().splitlines()\n",
    "names[:8]"
   ]
  },
  {
   "attachments": {},
   "cell_type": "markdown",
   "metadata": {},
   "source": [
    "### Build the datasets"
   ]
  },
  {
   "cell_type": "code",
   "execution_count": 23,
   "metadata": {},
   "outputs": [],
   "source": [
    "# create the encoder for the letters\n",
    "chars = [\".\"] + sorted(list(set(\"\".join(names)))) \n",
    "stoi = {c:i for i,c in enumerate(chars)}\n",
    "itos = {i:c for i,c in enumerate(chars)}\n",
    "vocab_size = len(stoi)\n",
    "\n",
    "# define the block size of the model\n",
    "block_size = 3 # context length: how many characters to we consider to predict the next one\n",
    "\n",
    "# helper function to encode the datasets\n",
    "def buildDatasets(words):\n",
    "    X, Y = [], []\n",
    "    \n",
    "    for word in words:\n",
    "        context = [0] * block_size\n",
    "        for ch in word + \".\":\n",
    "            ix = stoi[ch]\n",
    "            X.append(context)\n",
    "            Y.append(ix)\n",
    "            context = context[1:] + [ix]\n",
    "    \n",
    "    return (torch.tensor(X),torch.tensor(Y))\n",
    "\n",
    "# shuffle the order of the names\n",
    "random.seed(42)\n",
    "random.shuffle(names)\n",
    "n1 = int(0.8 * len(names))\n",
    "n2 = int(0.9 * len(names))\n",
    "\n",
    "# build the datasets\n",
    "xtrain, ytrain = buildDatasets(names[:n1]) # 80%\n",
    "xtest, ytest = buildDatasets(names[n1:n2]) # 10%\n",
    "xdev, ydev = buildDatasets(names[n2:]) # 10 %"
   ]
  },
  {
   "attachments": {},
   "cell_type": "markdown",
   "metadata": {},
   "source": [
    "### Create MLP"
   ]
  },
  {
   "cell_type": "code",
   "execution_count": 53,
   "metadata": {},
   "outputs": [
    {
     "name": "stdout",
     "output_type": "stream",
     "text": [
      "Number of parameters of the MLP = 11897\n"
     ]
    }
   ],
   "source": [
    "# define the parameters of the MLP\n",
    "n_embd = 10 # the dimentionality of the character embedding vectors\n",
    "n_hidden = 200 # the number of hidden layers\n",
    "g = torch.Generator().manual_seed(SEED) # the Generator with a seed, for reproductibility\n",
    "C = torch.randn(size = (vocab_size, n_embd), generator = g) # Embedding the inputs in higher dimension\n",
    "w1 = torch.randn(size=(n_embd * block_size, n_hidden), generator = g) # weights of the first layer\n",
    "b1 = torch.randn(size=(n_hidden,), generator=g) # biaias of the first layer\n",
    "w2 = torch.randn(size=(n_hidden, vocab_size), generator=g) * 0.01 # weight of the second layer\n",
    "b2 = torch.randn(size=(vocab_size,), generator=g) * 0 # biais of the second layer\n",
    "parameters = [C, w1, b1, w2, b2]\n",
    "\n",
    "for p in parameters:\n",
    "    p.requires_grad = True\n",
    "print(f\"Number of parameters of the MLP = {sum(p.nelement() for p in parameters)}\")"
   ]
  },
  {
   "attachments": {},
   "cell_type": "markdown",
   "metadata": {},
   "source": [
    "### Train MLP"
   ]
  },
  {
   "cell_type": "code",
   "execution_count": 54,
   "metadata": {},
   "outputs": [
    {
     "name": "stdout",
     "output_type": "stream",
     "text": [
      "The loss of the batch Nr.0 = 3.3106\n"
     ]
    }
   ],
   "source": [
    "# training parameters\n",
    "max_path = 100000\n",
    "batch_size = 64\n",
    "lossi = []\n",
    "xtrain_len = xtrain.shape[0]\n",
    "\n",
    "# forward pass\n",
    "for i in range(max_path):\n",
    "# for i in range(1):\n",
    "\n",
    "\t# prepare the data of the training batch\n",
    "\tix = torch.randint(low = 0, high=xtrain_len, size=(batch_size,), generator=g)\n",
    "\txbatch, ybatch = xtrain[ix], ytrain[ix]\n",
    "\n",
    "\t# forward pass\n",
    "\temb = C[xbatch] # embed the characters into tensor\n",
    "\tembcat = emb.view(emb.shape[0], -1) # concatenate the tensors\n",
    "\thpreact = embcat @ w1 + b1 # pass through the first hidden layer\n",
    "\th = torch.tanh(hpreact) # activation function of the first layer\n",
    "\tlogits = h @ w2 + b2 # output layer\n",
    "\tloss = F.cross_entropy(logits, ybatch) # loss function of this batch\n",
    "\n",
    "\t# backward pass\n",
    "\tfor p in parameters:\n",
    "\t\tp.grad = None\n",
    "\tloss.backward()\n",
    "\n",
    "\t# update the weights\n",
    "\tlr = 0.1 if i<50000 else 0.01\n",
    "\t# lr = 0.05 if i<10000 else 0.01\n",
    "\tfor p in parameters:\n",
    "\t\tp.data += - lr * p.grad\n",
    "  \n",
    "\t# print the results once in a while\n",
    "\tif i % 10000 == 0:\n",
    "\t\tprint(f\"The loss of the batch Nr.{i} = {loss.item():.4f}\")\n",
    "\tlossi.append(loss.log10().item())\n",
    " \n",
    "\tbreak\n",
    "\n",
    "# print the evolution of the loss\n",
    "# plt.plot(lossi)"
   ]
  },
  {
   "cell_type": "code",
   "execution_count": 61,
   "metadata": {},
   "outputs": [
    {
     "data": {
      "text/plain": [
       "(array([  3.,   2.,   4.,   7.,   9.,   7.,  16.,  22.,  34.,  46.,  73.,\n",
       "        132., 136., 160., 237., 299., 377., 465., 499., 599., 591., 696.,\n",
       "        808., 815., 819., 757., 782., 758., 620., 591., 539., 422., 385.,\n",
       "        234., 253., 165., 138.,  85.,  64.,  41.,  35.,  28.,  15.,  17.,\n",
       "          5.,   4.,   2.,   1.,   1.,   2.]),\n",
       " array([-20.40262413, -19.55371365, -18.70480316, -17.85589268,\n",
       "        -17.00698219, -16.15807171, -15.30916122, -14.46025074,\n",
       "        -13.61134026, -12.76242977, -11.91351929, -11.0646088 ,\n",
       "        -10.21569832,  -9.36678783,  -8.51787735,  -7.66896687,\n",
       "         -6.82005638,  -5.9711459 ,  -5.12223541,  -4.27332493,\n",
       "         -3.42441444,  -2.57550396,  -1.72659348,  -0.87768299,\n",
       "         -0.02877251,   0.82013798,   1.66904846,   2.51795895,\n",
       "          3.36686943,   4.21577991,   5.0646904 ,   5.91360088,\n",
       "          6.76251137,   7.61142185,   8.46033234,   9.30924282,\n",
       "         10.15815331,  11.00706379,  11.85597427,  12.70488476,\n",
       "         13.55379524,  14.40270573,  15.25161621,  16.1005267 ,\n",
       "         16.94943718,  17.79834766,  18.64725815,  19.49616863,\n",
       "         20.34507912,  21.1939896 ,  22.04290009]),\n",
       " <BarContainer object of 50 artists>)"
      ]
     },
     "execution_count": 61,
     "metadata": {},
     "output_type": "execute_result"
    },
    {
     "data": {
      "image/png": "[encoded data removed]",
      "text/plain": [
       "<Figure size 640x480 with 1 Axes>"
      ]
     },
     "metadata": {},
     "output_type": "display_data"
    }
   ],
   "source": [
    "plt.hist(hpreact.view(-1).tolist(), 50)"
   ]
  },
  {
   "attachments": {},
   "cell_type": "markdown",
   "metadata": {},
   "source": [
    "### Helper function to calculate the loss of a dataset"
   ]
  },
  {
   "cell_type": "code",
   "execution_count": 47,
   "metadata": {},
   "outputs": [
    {
     "name": "stdout",
     "output_type": "stream",
     "text": [
      "train loss = 2.0892937183380127\n",
      "dev loss = 2.1462221145629883\n"
     ]
    }
   ],
   "source": [
    "@torch.no_grad() # disable the operation gradient tracking\n",
    "def print_loss(dataset):\n",
    "\tdic = {\n",
    "\t\t\"train\": (xtrain, ytrain),\n",
    "\t\t\"dev\": (xdev, ydev),\n",
    "\t\t\"test\": (xtest, ytest)\n",
    "\t}\n",
    "\tX, Y = dic[dataset]\n",
    "\temb = C[X] # embed the characters into tensor\n",
    "\tembcat = emb.view(emb.shape[0], -1) # concatenate the tensors\n",
    "\thpreact = embcat @ w1 + b1 # pass through the first hidden layer\n",
    "\th = torch.tanh(hpreact) # activation function of the first layer\n",
    "\tlogits = h @ w2 + b2 # output layer\n",
    "\tloss = F.cross_entropy(logits, Y) # loss function of this batch\n",
    "\tprint(f\"{dataset} loss = {loss}\")\n",
    "print_loss(\"train\")\n",
    "print_loss(\"dev\")"
   ]
  },
  {
   "attachments": {},
   "cell_type": "markdown",
   "metadata": {},
   "source": [
    "### Predict new names"
   ]
  },
  {
   "cell_type": "code",
   "execution_count": 27,
   "metadata": {},
   "outputs": [
    {
     "name": "stdout",
     "output_type": "stream",
     "text": [
      "garett\n",
      "aniriel\n",
      "azaricksik\n",
      "sheymayxonaton\n",
      "weslynne\n",
      "brie\n",
      "amariyaniya\n",
      "adettina\n",
      "ladaliciana\n",
      "kaedy\n"
     ]
    }
   ],
   "source": [
    "# predict names\n",
    "newNames = []\n",
    "for i in range (10):\n",
    "\tnewName = \"\"\n",
    "\tcontext = [0] * block_size\n",
    "\twhile True:\n",
    "\t\temb = C[context] # embed the characters into tensor\n",
    "\t\tembcat = emb.view(30) # concatenate the tensors\n",
    "\t\thpreact = embcat @ w1 + b1 # pass through the first hidden layer\n",
    "\t\th = torch.tanh(hpreact) # activation function of the first layer\n",
    "\t\tlogits = h @ w2 + b2 # output layer\n",
    "\t\tproba = logits.exp() / logits.exp().sum()\n",
    "\n",
    "\t\ti_out = torch.multinomial(\n",
    "\t\t\tinput=proba,\n",
    "\t\t\tnum_samples=1,\n",
    "\t\t\treplacement=True,\n",
    "\t\t\tgenerator=g,\n",
    "\t\t).item()\n",
    "\n",
    "\t\tcontext = context[1:] + [i_out]\n",
    "\t\tnewName += itos[i_out]\n",
    "\n",
    "\t\tif i_out == 0:\n",
    "\t\t\tbreak\t\t\n",
    "\tnewNames.append(newName)\n",
    "\n",
    "for name in newNames:\n",
    "    print(name[:-1])"
   ]
  },
  {
   "cell_type": "code",
   "execution_count": null,
   "metadata": {},
   "outputs": [],
   "source": []
  }
 ],
 "metadata": {
  "kernelspec": {
   "display_name": ".venv",
   "language": "python",
   "name": "python3"
  },
  "language_info": {
   "codemirror_mode": {
    "name": "ipython",
    "version": 3
   },
   "file_extension": ".py",
   "mimetype": "text/x-python",
   "name": "python",
   "nbconvert_exporter": "python",
   "pygments_lexer": "ipython3",
   "version": "3.10.7"
  },
  "orig_nbformat": 4,
  "vscode": {
   "interpreter": {
    "hash": "8398e49975ed50dac93819d6da1fdcd2c3c7f69ed96c4ef7eb3607333daa0138"
   }
  }
 },
 "nbformat": 4,
 "nbformat_minor": 2
}
