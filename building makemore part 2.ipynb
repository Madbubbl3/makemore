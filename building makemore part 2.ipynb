{
 "cells": [
  {
   "attachments": {},
   "cell_type": "markdown",
   "metadata": {},
   "source": [
    "## Import the Datasets and the libraries"
   ]
  },
  {
   "attachments": {},
   "cell_type": "markdown",
   "metadata": {},
   "source": [
    "### Import the datasets"
   ]
  },
  {
   "cell_type": "code",
   "execution_count": 13,
   "metadata": {},
   "outputs": [],
   "source": [
    "import torch\n",
    "import torch.nn.functional as F\n",
    "import matplotlib.pyplot as plt\n",
    "import random \n",
    "\n",
    "%matplotlib inline\n",
    "\n",
    "SEED = 2147483647\n",
    "\n",
    "# read all the names in a python list\n",
    "with open(file=\"datasets/names.txt\", mode=\"r\") as namesTxt: \n",
    "    names = [line[:-1] for line in namesTxt.readlines()]\n",
    "\n",
    "# shuffle the order of the names\n",
    "random.seed(42)\n",
    "random.shuffle(names)\n",
    "n1 = int(0.8 * len(names))\n",
    "n2 = int(0.9 * len(names))\n"
   ]
  },
  {
   "attachments": {},
   "cell_type": "markdown",
   "metadata": {},
   "source": [
    "### Build the datasets"
   ]
  },
  {
   "cell_type": "code",
   "execution_count": 22,
   "metadata": {},
   "outputs": [],
   "source": [
    "# create the encoder for the letters\n",
    "chars = [\".\"] + sorted(list(set(\"\".join(names)))) \n",
    "stoi = {c:i for i,c in enumerate(chars)}\n",
    "itos = {i:c for i,c in enumerate(chars)}\n",
    "vocab_size = len(stoi)\n",
    "\n",
    "# define the block size of the model\n",
    "block_size = 3 # context length: how many characters to we consider to predict the next one\n",
    "\n",
    "# helper function to encode the datasets\n",
    "def buildDatasets(words):\n",
    "    X, Y = [], []\n",
    "    \n",
    "    for word in words:\n",
    "        context = [0] * block_size\n",
    "        for ch in word + \".\":\n",
    "            ix = stoi[ch]\n",
    "            X.append(context)\n",
    "            Y.append(ix)\n",
    "            context = context[1:] + [ix]\n",
    "    \n",
    "    return (torch.tensor(X),torch.tensor(Y))\n",
    "\n",
    "# build the datasets\n",
    "xtrain, ytrain = buildDatasets(names[:n1]) # 80%\n",
    "xtest, ytest = buildDatasets(names[n1:n2]) # 10%\n",
    "xdev, ydev = buildDatasets(names[n2:]) # 10 %"
   ]
  },
  {
   "cell_type": "code",
   "execution_count": 24,
   "metadata": {},
   "outputs": [
    {
     "name": "stdout",
     "output_type": "stream",
     "text": [
      "size of xtrain = torch.Size([182624, 3])\n",
      "size of xtest = torch.Size([22655, 3])\n",
      "size of xdev = torch.Size([22866, 3])\n"
     ]
    }
   ],
   "source": [
    "print(f\"size of xtrain = {xtrain.shape}\")\n",
    "print(f\"size of xtest = {xtest.shape}\")\n",
    "print(f\"size of xdev = {xdev.shape}\")"
   ]
  },
  {
   "cell_type": "code",
   "execution_count": null,
   "metadata": {},
   "outputs": [],
   "source": []
  }
 ],
 "metadata": {
  "kernelspec": {
   "display_name": ".venv",
   "language": "python",
   "name": "python3"
  },
  "language_info": {
   "codemirror_mode": {
    "name": "ipython",
    "version": 3
   },
   "file_extension": ".py",
   "mimetype": "text/x-python",
   "name": "python",
   "nbconvert_exporter": "python",
   "pygments_lexer": "ipython3",
   "version": "3.10.7"
  },
  "orig_nbformat": 4,
  "vscode": {
   "interpreter": {
    "hash": "8398e49975ed50dac93819d6da1fdcd2c3c7f69ed96c4ef7eb3607333daa0138"
   }
  }
 },
 "nbformat": 4,
 "nbformat_minor": 2
}
