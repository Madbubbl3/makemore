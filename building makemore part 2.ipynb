{
 "cells": [
  {
   "attachments": {},
   "cell_type": "markdown",
   "metadata": {},
   "source": [
    "## Import the Datasets and the libraries"
   ]
  },
  {
   "attachments": {},
   "cell_type": "markdown",
   "metadata": {},
   "source": [
    "### Import the datasets"
   ]
  },
  {
   "cell_type": "code",
   "execution_count": 1,
   "metadata": {},
   "outputs": [
    {
     "data": {
      "text/plain": [
       "['emma', 'olivia', 'ava', 'isabella', 'sophia', 'charlotte', 'mia', 'amelia']"
      ]
     },
     "execution_count": 1,
     "metadata": {},
     "output_type": "execute_result"
    }
   ],
   "source": [
    "import torch\n",
    "import torch.nn.functional as F\n",
    "import matplotlib.pyplot as plt\n",
    "import random \n",
    "\n",
    "%matplotlib inline\n",
    "\n",
    "SEED = 2147483647\n",
    "\n",
    "# read all the names in a python list\n",
    "with open(file=\"datasets/names.txt\", mode=\"r\") as namesTxt: \n",
    "    # names = [line[:-1] for line in namesTxt.readlines()]\n",
    "    names = namesTxt.read().splitlines()\n",
    "names[:8]"
   ]
  },
  {
   "attachments": {},
   "cell_type": "markdown",
   "metadata": {},
   "source": [
    "### Build the datasets"
   ]
  },
  {
   "cell_type": "code",
   "execution_count": 2,
   "metadata": {},
   "outputs": [],
   "source": [
    "# create the encoder for the letters\n",
    "chars = [\".\"] + sorted(list(set(\"\".join(names)))) \n",
    "stoi = {c:i for i,c in enumerate(chars)}\n",
    "itos = {i:c for i,c in enumerate(chars)}\n",
    "vocab_size = len(stoi)\n",
    "\n",
    "# define the block size of the model\n",
    "block_size = 3 # context length: how many characters to we consider to predict the next one\n",
    "\n",
    "# helper function to encode the datasets\n",
    "def buildDatasets(words):\n",
    "    X, Y = [], []\n",
    "    \n",
    "    for word in words:\n",
    "        context = [0] * block_size\n",
    "        for ch in word + \".\":\n",
    "            ix = stoi[ch]\n",
    "            X.append(context)\n",
    "            Y.append(ix)\n",
    "            context = context[1:] + [ix]\n",
    "    \n",
    "    return (torch.tensor(X),torch.tensor(Y))\n",
    "\n",
    "# shuffle the order of the names\n",
    "random.seed(42)\n",
    "random.shuffle(names)\n",
    "n1 = int(0.8 * len(names))\n",
    "n2 = int(0.9 * len(names))\n",
    "\n",
    "# build the datasets\n",
    "xtrain, ytrain = buildDatasets(names[:n1]) # 80%\n",
    "xtest, ytest = buildDatasets(names[n1:n2]) # 10%\n",
    "xdev, ydev = buildDatasets(names[n2:]) # 10 %"
   ]
  },
  {
   "attachments": {},
   "cell_type": "markdown",
   "metadata": {},
   "source": [
    "#### Create MLP"
   ]
  },
  {
   "cell_type": "code",
   "execution_count": 3,
   "metadata": {},
   "outputs": [
    {
     "name": "stdout",
     "output_type": "stream",
     "text": [
      "Number of parameters of the MLP = 11897\n"
     ]
    }
   ],
   "source": [
    "# define the parameters of the MLP\n",
    "n_embd = 10 # the dimentionality of the character embedding vectors\n",
    "n_hidden = 200 # the number of hidden layers\n",
    "g = torch.Generator().manual_seed(SEED) # the Generator with a seed, for reproductibility\n",
    "emb_T = torch.randn(size = (vocab_size, n_embd), generator = g, requires_grad= True) # Embedding the inputs in higher dimension\n",
    "w1 = torch.randn(size=(n_embd * block_size, n_hidden), generator = g, requires_grad= True) # weights of the first layer\n",
    "b1 = torch.randn(size=(n_hidden,), generator=g, requires_grad= True) # biaias of the first layer\n",
    "w2 = torch.randn(size=(n_hidden, vocab_size), generator=g, requires_grad= True) # weight of the second layer\n",
    "b2 = torch.randn(size=(vocab_size,), generator=g, requires_grad= True) # biais of the second layer\n",
    "parameters = [emb_T, w1, b1, w2, b2]\n",
    "print(f\"Number of parameters of the MLP = {sum(p.nelement() for p in parameters)}\")"
   ]
  },
  {
   "attachments": {},
   "cell_type": "markdown",
   "metadata": {},
   "source": [
    "#### Train MLP"
   ]
  },
  {
   "cell_type": "code",
   "execution_count": 12,
   "metadata": {},
   "outputs": [
    {
     "name": "stdout",
     "output_type": "stream",
     "text": [
      "The loss of the batch Nr.0 = 2.1669\n",
      "The loss of the batch Nr.10000 = 2.4308\n",
      "The loss of the batch Nr.20000 = 2.2901\n",
      "The loss of the batch Nr.30000 = 2.1796\n",
      "The loss of the batch Nr.40000 = 2.1516\n",
      "The loss of the batch Nr.50000 = 1.9200\n",
      "The loss of the batch Nr.60000 = 2.0837\n",
      "The loss of the batch Nr.70000 = 2.4782\n",
      "The loss of the batch Nr.80000 = 1.8185\n",
      "The loss of the batch Nr.90000 = 2.2332\n",
      "The loss of the batch Nr.100000 = 2.2782\n",
      "The loss of the batch Nr.110000 = 2.3033\n",
      "The loss of the batch Nr.120000 = 2.1753\n",
      "The loss of the batch Nr.130000 = 1.8456\n",
      "The loss of the batch Nr.140000 = 2.0546\n",
      "The loss of the batch Nr.150000 = 2.3757\n",
      "The loss of the batch Nr.160000 = 2.1555\n",
      "The loss of the batch Nr.170000 = 2.5299\n",
      "The loss of the batch Nr.180000 = 2.2288\n",
      "The loss of the batch Nr.190000 = 2.2398\n"
     ]
    }
   ],
   "source": [
    "# training parameters\n",
    "max_path = 200000\n",
    "batch_size = 32\n",
    "lossi = []\n",
    "xtrain_len = xtrain.shape[0]\n",
    "\n",
    "# forward pass\n",
    "for i in range(max_path):\n",
    "# for i in range(1):\n",
    "\n",
    "\t# prepare the data of the training batch\n",
    "\tix = torch.randint(low = 0, high=xtrain_len, size=(batch_size,), generator=g)\n",
    "\txbatch, ybatch = xtrain[ix], ytrain[ix]\n",
    "\n",
    "\t# forward pass\n",
    "\temb = emb_T[xbatch] # embed the characters into tensor\n",
    "\tembcat = emb.view(emb.shape[0], -1) # concatenate the tensors\n",
    "\thpreact = embcat @ w1 + b1 # pass through the first hidden layer\n",
    "\th = torch.tanh(hpreact) # activation function of the first layer\n",
    "\tlogits = h @ w2 + b2 # output layer\n",
    "\tloss = F.cross_entropy(logits, ybatch) # loss function of this batch\n",
    "\n",
    "\t# backward pass\n",
    "\tfor p in parameters:\n",
    "\t\tp.grad = None\n",
    "\tloss.backward()\n",
    "\n",
    "\t# update the weights\n",
    "\tlr = 0.1 if i<10000 else 0.01\n",
    "\t# lr = 0.05 if i<10000 else 0.01\n",
    "\tfor p in parameters:\n",
    "\t\tp.data += - lr * p.grad\n",
    "  \n",
    "\t# print the results once in a while\n",
    "\tif i % 10000 == 0:\n",
    "\t\tprint(f\"The loss of the batch Nr.{i} = {loss.item():.4f}\")\n",
    "\tlossi.append(loss.log10().item())\n"
   ]
  },
  {
   "cell_type": "code",
   "execution_count": 5,
   "metadata": {},
   "outputs": [
    {
     "data": {
      "text/plain": [
       "[<matplotlib.lines.Line2D at 0x1220d8e80>]"
      ]
     },
     "execution_count": 5,
     "metadata": {},
     "output_type": "execute_result"
    },
    {
     "data": {
      "image/png": "[encoded data removed]",
      "text/plain": [
       "<Figure size 640x480 with 1 Axes>"
      ]
     },
     "metadata": {},
     "output_type": "display_data"
    }
   ],
   "source": [
    "plt.plot(lossi)"
   ]
  },
  {
   "cell_type": "code",
   "execution_count": 13,
   "metadata": {},
   "outputs": [
    {
     "data": {
      "text/plain": [
       "tensor(2.1633, grad_fn=<NllLossBackward0>)"
      ]
     },
     "execution_count": 13,
     "metadata": {},
     "output_type": "execute_result"
    }
   ],
   "source": [
    "emb = emb_T[xtrain] # embed the characters into tensor\n",
    "embcat = emb.view(emb.shape[0], -1) # concatenate the tensors\n",
    "hpreact = embcat @ w1 + b1 # pass through the first hidden layer\n",
    "h = torch.tanh(hpreact) # activation function of the first layer\n",
    "logits = h @ w2 + b2 # output layer\n",
    "loss = F.cross_entropy(logits, ytrain) # loss function of this batch\n",
    "loss"
   ]
  },
  {
   "cell_type": "code",
   "execution_count": 14,
   "metadata": {},
   "outputs": [
    {
     "data": {
      "text/plain": [
       "tensor(2.1933, grad_fn=<NllLossBackward0>)"
      ]
     },
     "execution_count": 14,
     "metadata": {},
     "output_type": "execute_result"
    }
   ],
   "source": [
    "emb = emb_T[xdev] # embed the characters into tensor\n",
    "embcat = emb.view(emb.shape[0], -1) # concatenate the tensors\n",
    "hpreact = embcat @ w1 + b1 # pass through the first hidden layer\n",
    "h = torch.tanh(hpreact) # activation function of the first layer\n",
    "logits = h @ w2 + b2 # output layer\n",
    "loss = F.cross_entropy(logits, ydev) # loss function of this batch\n",
    "loss"
   ]
  },
  {
   "cell_type": "code",
   "execution_count": null,
   "metadata": {},
   "outputs": [],
   "source": []
  }
 ],
 "metadata": {
  "kernelspec": {
   "display_name": ".venv",
   "language": "python",
   "name": "python3"
  },
  "language_info": {
   "codemirror_mode": {
    "name": "ipython",
    "version": 3
   },
   "file_extension": ".py",
   "mimetype": "text/x-python",
   "name": "python",
   "nbconvert_exporter": "python",
   "pygments_lexer": "ipython3",
   "version": "3.10.7"
  },
  "orig_nbformat": 4,
  "vscode": {
   "interpreter": {
    "hash": "8398e49975ed50dac93819d6da1fdcd2c3c7f69ed96c4ef7eb3607333daa0138"
   }
  }
 },
 "nbformat": 4,
 "nbformat_minor": 2
}
